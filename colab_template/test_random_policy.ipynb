{
  "cells": [
    {
      "cell_type": "markdown",
      "metadata": {
        "id": "Siz3Hiq1JUZ1"
      },
      "source": [
        "Install and load all dependencies (first time only) \\\n",
        "NOTE: you may need to restart the runtime afterwards (CTRL+M .)."
      ]
    },
    {
      "cell_type": "code",
      "execution_count": null,
      "metadata": {
        "id": "AW6XT0jSJI8e"
      },
      "outputs": [],
      "source": [
        "!apt-get install -y \\\n",
        "    libgl1-mesa-dev \\\n",
        "    libgl1-mesa-glx \\\n",
        "    libglew-dev \\\n",
        "    libosmesa6-dev \\\n",
        "    software-properties-common\n",
        "\n",
        "!apt-get install -y patchelf\n",
        "\n",
        "!pip install gym\n",
        "!pip install free-mujoco-py"
      ]
    },
    {
      "cell_type": "markdown",
      "metadata": {
        "id": "gwIRXGd5K3xJ"
      },
      "source": [
        "Set up the custom Hopper environment\n",
        "\n",
        "\n",
        "\n",
        "1.   Upload `custom_hopper_env.zip` to the current session's file storage\n",
        "2.   Un-zip it by running cell below\n"
      ]
    },
    {
      "cell_type": "code",
      "execution_count": null,
      "metadata": {
        "id": "T9WsofDVLaCC"
      },
      "outputs": [],
      "source": [
        "!unzip custom_hopper_env.zip"
      ]
    },
    {
      "cell_type": "markdown",
      "metadata": {
        "id": "7pJC_JevLf1f"
      },
      "source": [
        "\n",
        "\n",
        "---\n",
        "\n"
      ]
    },
    {
      "cell_type": "markdown",
      "metadata": {
        "id": "W4NsuF6pJPVJ"
      },
      "source": [
        "\\\n",
        "\n",
        "**Test a random policy on the OpenAI Gym Hopper environment**\n",
        "\n",
        "\\\n",
        "\n",
        "\n",
        "\n",
        "Play around with this code to get familiar with the\n",
        "Hopper environment.\n",
        "\n",
        "For example, what happens if you don't reset the environment\n",
        "even after the episode is over?\n",
        "When exactly is the episode over?\n",
        "What is an action here?\n"
      ]
    },
    {
      "cell_type": "code",
      "execution_count": 5,
      "metadata": {
        "id": "uTYmUufrJTNl"
      },
      "outputs": [],
      "source": [
        "import gym\n",
        "from env.custom_hopper import *"
      ]
    },
    {
      "cell_type": "code",
      "execution_count": null,
      "metadata": {
        "id": "QcCfCGg-Jyc3"
      },
      "outputs": [],
      "source": [
        "env = gym.make('CustomHopper-source-v0')\n",
        "\n",
        "print('State space:', env.observation_space)\n",
        "print('Action space:', env.action_space)\n",
        "print('Dynamics parameters:', env.get_parameters())\n",
        "\n",
        "n_episodes = 500"
      ]
    },
    {
      "cell_type": "code",
      "execution_count": 3,
      "metadata": {
        "id": "DT1oXr8HJ05h"
      },
      "outputs": [],
      "source": [
        "for episode in range(n_episodes):\n",
        "  done = False\n",
        "  observation = env.reset()\t# Reset environment to initial state\n",
        "\n",
        "  while not done:  # Until the episode is over\n",
        "\n",
        "    action = env.action_space.sample()\t# Sample random action\n",
        "  \n",
        "    observation, reward, done, info = env.step(action)\t# Step the simulator to the next timestep"
      ]
    }
  ],
  "metadata": {
    "colab": {
      "name": "test_random_policy.ipynb",
      "provenance": []
    },
    "kernelspec": {
      "display_name": "Python 3",
      "name": "python3"
    },
    "language_info": {
      "name": "python"
    }
  },
  "nbformat": 4,
  "nbformat_minor": 0
}
