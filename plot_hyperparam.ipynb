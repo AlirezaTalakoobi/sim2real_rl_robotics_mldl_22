{
 "cells": [
  {
   "cell_type": "code",
   "execution_count": 23,
   "metadata": {},
   "outputs": [],
   "source": [
    "import pandas as pd\n",
    "import seaborn as sns\n",
    "import matplotlib.pyplot as plt"
   ]
  },
  {
   "cell_type": "code",
   "execution_count": 21,
   "metadata": {},
   "outputs": [
    {
     "data": {
      "text/plain": [
       "Index(['modelname', 'init_runs', 'steps', 'learning_rate', 'intrain_reward',\n",
       "       'averagereward', 'stdev'],\n",
       "      dtype='object')"
      ]
     },
     "execution_count": 21,
     "metadata": {},
     "output_type": "execute_result"
    }
   ],
   "source": [
    "res = pd.read_csv(\"results.txt\")\n",
    "res.columns"
   ]
  },
  {
   "cell_type": "code",
   "execution_count": 22,
   "metadata": {},
   "outputs": [
    {
     "data": {
      "text/html": [
       "<div>\n",
       "<style scoped>\n",
       "    .dataframe tbody tr th:only-of-type {\n",
       "        vertical-align: middle;\n",
       "    }\n",
       "\n",
       "    .dataframe tbody tr th {\n",
       "        vertical-align: top;\n",
       "    }\n",
       "\n",
       "    .dataframe thead th {\n",
       "        text-align: right;\n",
       "    }\n",
       "</style>\n",
       "<table border=\"1\" class=\"dataframe\">\n",
       "  <thead>\n",
       "    <tr style=\"text-align: right;\">\n",
       "      <th></th>\n",
       "      <th>modelname</th>\n",
       "      <th>init_runs</th>\n",
       "      <th>steps</th>\n",
       "      <th>learning_rate</th>\n",
       "      <th>intrain_reward</th>\n",
       "      <th>averagereward</th>\n",
       "      <th>stdev</th>\n",
       "    </tr>\n",
       "  </thead>\n",
       "  <tbody>\n",
       "    <tr>\n",
       "      <th>6</th>\n",
       "      <td>to_test/trpo_bayrn_model</td>\n",
       "      <td>5</td>\n",
       "      <td>20000</td>\n",
       "      <td>0.010</td>\n",
       "      <td>1525.576092</td>\n",
       "      <td>894.148179</td>\n",
       "      <td>387.349610</td>\n",
       "    </tr>\n",
       "    <tr>\n",
       "      <th>8</th>\n",
       "      <td>to_test/trpo_bayrn_model</td>\n",
       "      <td>10</td>\n",
       "      <td>5000</td>\n",
       "      <td>0.010</td>\n",
       "      <td>1293.366285</td>\n",
       "      <td>1269.524439</td>\n",
       "      <td>48.234916</td>\n",
       "    </tr>\n",
       "    <tr>\n",
       "      <th>10</th>\n",
       "      <td>to_test/trpo_bayrn_model</td>\n",
       "      <td>10</td>\n",
       "      <td>20000</td>\n",
       "      <td>0.001</td>\n",
       "      <td>1390.764478</td>\n",
       "      <td>1336.011939</td>\n",
       "      <td>14.535830</td>\n",
       "    </tr>\n",
       "    <tr>\n",
       "      <th>5</th>\n",
       "      <td>to_test/trpo_bayrn_model</td>\n",
       "      <td>10</td>\n",
       "      <td>5000</td>\n",
       "      <td>0.001</td>\n",
       "      <td>1417.693560</td>\n",
       "      <td>1339.586619</td>\n",
       "      <td>2.991737</td>\n",
       "    </tr>\n",
       "    <tr>\n",
       "      <th>2</th>\n",
       "      <td>to_test/trpo_bayrn_model</td>\n",
       "      <td>10</td>\n",
       "      <td>20000</td>\n",
       "      <td>0.010</td>\n",
       "      <td>1438.135873</td>\n",
       "      <td>1401.812411</td>\n",
       "      <td>8.152657</td>\n",
       "    </tr>\n",
       "    <tr>\n",
       "      <th>0</th>\n",
       "      <td>to_test/trpo_bayrn_model</td>\n",
       "      <td>5</td>\n",
       "      <td>20000</td>\n",
       "      <td>0.001</td>\n",
       "      <td>1464.822261</td>\n",
       "      <td>1410.467117</td>\n",
       "      <td>1.892566</td>\n",
       "    </tr>\n",
       "    <tr>\n",
       "      <th>7</th>\n",
       "      <td>to_test/trpo_bayrn_model</td>\n",
       "      <td>5</td>\n",
       "      <td>10000</td>\n",
       "      <td>0.001</td>\n",
       "      <td>1136.619223</td>\n",
       "      <td>1421.193381</td>\n",
       "      <td>156.969062</td>\n",
       "    </tr>\n",
       "    <tr>\n",
       "      <th>3</th>\n",
       "      <td>to_test/trpo_bayrn_model</td>\n",
       "      <td>5</td>\n",
       "      <td>5000</td>\n",
       "      <td>0.001</td>\n",
       "      <td>1464.451347</td>\n",
       "      <td>1442.848019</td>\n",
       "      <td>25.710369</td>\n",
       "    </tr>\n",
       "    <tr>\n",
       "      <th>11</th>\n",
       "      <td>to_test/trpo_bayrn_model</td>\n",
       "      <td>5</td>\n",
       "      <td>10000</td>\n",
       "      <td>0.010</td>\n",
       "      <td>1663.781025</td>\n",
       "      <td>1536.314439</td>\n",
       "      <td>74.603622</td>\n",
       "    </tr>\n",
       "    <tr>\n",
       "      <th>4</th>\n",
       "      <td>to_test/trpo_bayrn_model</td>\n",
       "      <td>5</td>\n",
       "      <td>5000</td>\n",
       "      <td>0.010</td>\n",
       "      <td>1594.025317</td>\n",
       "      <td>1563.423226</td>\n",
       "      <td>21.258096</td>\n",
       "    </tr>\n",
       "    <tr>\n",
       "      <th>9</th>\n",
       "      <td>to_test/trpo_bayrn_model</td>\n",
       "      <td>10</td>\n",
       "      <td>10000</td>\n",
       "      <td>0.010</td>\n",
       "      <td>1212.859152</td>\n",
       "      <td>1589.718470</td>\n",
       "      <td>6.697547</td>\n",
       "    </tr>\n",
       "    <tr>\n",
       "      <th>1</th>\n",
       "      <td>to_test/trpo_bayrn_model</td>\n",
       "      <td>10</td>\n",
       "      <td>10000</td>\n",
       "      <td>0.001</td>\n",
       "      <td>1175.259380</td>\n",
       "      <td>1619.734331</td>\n",
       "      <td>5.900413</td>\n",
       "    </tr>\n",
       "  </tbody>\n",
       "</table>\n",
       "</div>"
      ],
      "text/plain": [
       "                   modelname  init_runs  steps  learning_rate  intrain_reward  \\\n",
       "6   to_test/trpo_bayrn_model          5  20000          0.010     1525.576092   \n",
       "8   to_test/trpo_bayrn_model         10   5000          0.010     1293.366285   \n",
       "10  to_test/trpo_bayrn_model         10  20000          0.001     1390.764478   \n",
       "5   to_test/trpo_bayrn_model         10   5000          0.001     1417.693560   \n",
       "2   to_test/trpo_bayrn_model         10  20000          0.010     1438.135873   \n",
       "0   to_test/trpo_bayrn_model          5  20000          0.001     1464.822261   \n",
       "7   to_test/trpo_bayrn_model          5  10000          0.001     1136.619223   \n",
       "3   to_test/trpo_bayrn_model          5   5000          0.001     1464.451347   \n",
       "11  to_test/trpo_bayrn_model          5  10000          0.010     1663.781025   \n",
       "4   to_test/trpo_bayrn_model          5   5000          0.010     1594.025317   \n",
       "9   to_test/trpo_bayrn_model         10  10000          0.010     1212.859152   \n",
       "1   to_test/trpo_bayrn_model         10  10000          0.001     1175.259380   \n",
       "\n",
       "    averagereward       stdev  \n",
       "6      894.148179  387.349610  \n",
       "8     1269.524439   48.234916  \n",
       "10    1336.011939   14.535830  \n",
       "5     1339.586619    2.991737  \n",
       "2     1401.812411    8.152657  \n",
       "0     1410.467117    1.892566  \n",
       "7     1421.193381  156.969062  \n",
       "3     1442.848019   25.710369  \n",
       "11    1536.314439   74.603622  \n",
       "4     1563.423226   21.258096  \n",
       "9     1589.718470    6.697547  \n",
       "1     1619.734331    5.900413  "
      ]
     },
     "execution_count": 22,
     "metadata": {},
     "output_type": "execute_result"
    }
   ],
   "source": [
    "res.sort_values(by=[\"averagereward\"])"
   ]
  },
  {
   "cell_type": "code",
   "execution_count": 42,
   "metadata": {},
   "outputs": [
    {
     "data": {
      "text/plain": [
       "<AxesSubplot:xlabel='averagereward', ylabel='steps'>"
      ]
     },
     "execution_count": 42,
     "metadata": {},
     "output_type": "execute_result"
    },
    {
     "data": {
      "image/png": "[encoded data removed]",
      "text/plain": [
       "<Figure size 432x288 with 1 Axes>"
      ]
     },
     "metadata": {},
     "output_type": "display_data"
    }
   ],
   "source": [
    "sns.set_style('ticks')\n",
    "sns.scatterplot(data=res, x='averagereward', y='steps', hue='learning_rate', palette='Paired', s=100)"
   ]
  }
 ],
 "metadata": {
  "interpreter": {
   "hash": "f73aa8225ecf0abd849da452a1e233d07b22e4853cb3a36c08794f96a51f96fa"
  },
  "kernelspec": {
   "display_name": "Python 3.10.4 ('.bayrn_venv': venv)",
   "language": "python",
   "name": "python3"
  },
  "language_info": {
   "codemirror_mode": {
    "name": "ipython",
    "version": 3
   },
   "file_extension": ".py",
   "mimetype": "text/x-python",
   "name": "python",
   "nbconvert_exporter": "python",
   "pygments_lexer": "ipython3",
   "version": "3.10.4"
  },
  "orig_nbformat": 4
 },
 "nbformat": 4,
 "nbformat_minor": 2
}
