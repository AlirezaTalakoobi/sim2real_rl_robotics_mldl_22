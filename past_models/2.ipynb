{
 "cells": [
  {
   "cell_type": "markdown",
   "metadata": {},
   "source": [
    "# State Space"
   ]
  },
  {
   "cell_type": "markdown",
   "metadata": {},
   "source": [
    "### What are the variables in the state space?\n",
    "\n",
    "There are 11 different variables in the state space (counted from the observation parameter\n",
    "we canh find in the test random policy.py code) which most likely represent the c*urrent coordinate, angle, and velocity of different parts /hinges and joints) of the leg. "
   ]
  },
  {
   "cell_type": "markdown",
   "metadata": {},
   "source": [
    "### What is its dimensionality?  \n",
    "\n",
    "(11,1)"
   ]
  },
  {
   "cell_type": "markdown",
   "metadata": {},
   "source": [
    "### Are they continuous or discrete?\n",
    "\n",
    "Given a sample of the observation field:\n",
    "\n",
    "[ 1.25022184e+00 -4.91627052e-04  2.85752014e-03  2.99970024e-03\n",
    "  7.99559013e-03 -1.98285901e-02 -1.00789188e-01 -4.83285959e-01\n",
    " -4.97577898e-01 -2.22065690e-01  1.38183143e+00]\n",
    "\n",
    "I can say with certainty that these variables are continuous"
   ]
  },
  {
   "cell_type": "markdown",
   "metadata": {},
   "source": [
    "# Action Space"
   ]
  },
  {
   "cell_type": "markdown",
   "metadata": {},
   "source": [
    "### What does the action space consist of?\n",
    "\n",
    "The action space is a Box (self.action_space = spaces.Box(low=low, high=high, dtype=np.float32)) and an action is a certain torque applied between links."
   ]
  },
  {
   "cell_type": "markdown",
   "metadata": {},
   "source": [
    "### What is its dimensionality? \n",
    "\n",
    "The box size is Box(-1, 1, (3,), float32), its dimensionality is 3"
   ]
  },
  {
   "cell_type": "markdown",
   "metadata": {},
   "source": [
    "### Are the actions continuous or discrete?\n"
   ]
  },
  {
   "cell_type": "markdown",
   "metadata": {},
   "source": [
    "The actions are continuous (the box has data type float 32)"
   ]
  },
  {
   "cell_type": "markdown",
   "metadata": {},
   "source": [
    "# Mass Values"
   ]
  },
  {
   "cell_type": "markdown",
   "metadata": {},
   "source": [
    "### What are the mass values in the source environment?\n",
    "\n",
    "Currently random"
   ]
  },
  {
   "cell_type": "markdown",
   "metadata": {},
   "source": [
    "### What are the ones in the target one?\n"
   ]
  },
  {
   "cell_type": "markdown",
   "metadata": {},
   "source": []
  }
 ],
 "metadata": {
  "kernelspec": {
   "display_name": "Python 3 (ipykernel)",
   "language": "python",
   "name": "python3"
  },
  "language_info": {
   "codemirror_mode": {
    "name": "ipython",
    "version": 3
   },
   "file_extension": ".py",
   "mimetype": "text/x-python",
   "name": "python",
   "nbconvert_exporter": "python",
   "pygments_lexer": "ipython3",
   "version": "3.9.7"
  }
 },
 "nbformat": 4,
 "nbformat_minor": 2
}
